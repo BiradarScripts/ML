{
 "cells": [
  {
   "cell_type": "code",
   "execution_count": null,
   "metadata": {
    "vscode": {
     "languageId": "plaintext"
    }
   },
   "outputs": [],
   "source": [
    "import numpy as np\n",
    "import pandas as pd\n",
    "import matplotlib.pyplot as plt\n",
    "import seaborn as sns"
   ]
  },
  {
   "cell_type": "code",
   "execution_count": null,
   "metadata": {
    "vscode": {
     "languageId": "plaintext"
    }
   },
   "outputs": [],
   "source": [
    "train=pd.read_csv('train.csv')\n",
    "test=pd.read_csv('test.csv')\n",
    "a=test['PassengerId']"
   ]
  },
  {
   "cell_type": "code",
   "execution_count": null,
   "metadata": {
    "vscode": {
     "languageId": "plaintext"
    }
   },
   "outputs": [],
   "source": [
    "train"
   ]
  },
  {
   "cell_type": "code",
   "execution_count": null,
   "metadata": {
    "vscode": {
     "languageId": "plaintext"
    }
   },
   "outputs": [],
   "source": [
    "train.drop(columns=[ \"PassengerId\",\"Name\", \"Ticket\", \"Cabin\"], inplace=True)\n",
    "test.drop(columns=[ \"PassengerId\",\"Name\", \"Ticket\", \"Cabin\"], inplace=True)"
   ]
  },
  {
   "cell_type": "code",
   "execution_count": null,
   "metadata": {
    "vscode": {
     "languageId": "plaintext"
    }
   },
   "outputs": [],
   "source": [
    "train"
   ]
  },
  {
   "cell_type": "code",
   "execution_count": null,
   "metadata": {
    "vscode": {
     "languageId": "plaintext"
    }
   },
   "outputs": [],
   "source": [
    "test"
   ]
  },
  {
   "cell_type": "code",
   "execution_count": null,
   "metadata": {
    "vscode": {
     "languageId": "plaintext"
    }
   },
   "outputs": [],
   "source": [
    "train['Embarked'].mode()\n",
    "train.groupby('Embarked').sum()"
   ]
  },
  {
   "cell_type": "code",
   "execution_count": null,
   "metadata": {
    "vscode": {
     "languageId": "plaintext"
    }
   },
   "outputs": [],
   "source": [
    "train['Embarked'].fillna('S', inplace=True)\n",
    "test['Embarked'].fillna('S', inplace=True)"
   ]
  },
  {
   "cell_type": "code",
   "execution_count": null,
   "metadata": {
    "vscode": {
     "languageId": "plaintext"
    }
   },
   "outputs": [],
   "source": [
    "from sklearn.preprocessing import LabelEncoder\n",
    "le_sex = LabelEncoder()\n",
    "train['Sex'] = le_sex.fit_transform(train['Sex'])\n",
    "unique_op_sex = train['Sex'].unique()\n",
    "print(\"Label Encoder Parameters Sex\", le_sex.inverse_transform(unique_op_sex))\n",
    "\n",
    "le_embarked = LabelEncoder()\n",
    "train['Embarked'] = le_embarked.fit_transform(train['Embarked'])\n",
    "unique_op_embarked = train['Embarked'].unique()\n",
    "print(\"Label Encoder Parameters Embarked\", le_embarked.inverse_transform(unique_op_embarked))\n",
    "\n",
    "test['Sex'] = le_sex.fit_transform(test['Sex'])\n",
    "unique_op_sex = test['Sex'].unique()\n",
    "print(\"Label Encoder Parameters Sex\", le_sex.inverse_transform(unique_op_sex))\n",
    "\n",
    "le_embarked = LabelEncoder()\n",
    "test['Embarked'] = le_embarked.fit_transform(test['Embarked'])\n",
    "unique_op_embarked = train['Embarked'].unique()\n",
    "print(\"Label Encoder Parameters Embarked\", le_embarked.inverse_transform(unique_op_embarked))"
   ]
  },
  {
   "cell_type": "code",
   "execution_count": null,
   "metadata": {
    "vscode": {
     "languageId": "plaintext"
    }
   },
   "outputs": [],
   "source": [
    "# from sklearn.preprocessing import LabelEncoder\n",
    "# le_sex = LabelEncoder()\n",
    "# test['Sex'] = le_sex.fit_transform(test['Sex'])\n",
    "# unique_op_sex = test['Sex'].unique()\n",
    "# print(\"Label Encoder Parameters Sex\", le_sex.inverse_transform(unique_op_sex))\n",
    "\n",
    "# le_embarked = LabelEncoder()\n",
    "# test['Embarked'] = le_embarked.fit_transform(test['Embarked'])\n",
    "# unique_op_embarked = train['Embarked'].unique()\n",
    "# print(\"Label Encoder Parameters Embarked\", le_embarked.inverse_transform(unique_op_embarked))"
   ]
  },
  {
   "cell_type": "code",
   "execution_count": null,
   "metadata": {
    "vscode": {
     "languageId": "plaintext"
    }
   },
   "outputs": [],
   "source": [
    "train"
   ]
  },
  {
   "cell_type": "code",
   "execution_count": null,
   "metadata": {
    "vscode": {
     "languageId": "plaintext"
    }
   },
   "outputs": [],
   "source": [
    "test\n"
   ]
  },
  {
   "cell_type": "code",
   "execution_count": null,
   "metadata": {
    "vscode": {
     "languageId": "plaintext"
    }
   },
   "outputs": [],
   "source": [
    "plt.figure(figsize=(10,6))\n",
    "sns.boxplot(data=train[['Fare']])\n",
    "plt.show()"
   ]
  },
  {
   "cell_type": "code",
   "execution_count": null,
   "metadata": {
    "vscode": {
     "languageId": "plaintext"
    }
   },
   "outputs": [],
   "source": [
    "plt.figure(figsize=(10,6))\n",
    "sns.boxplot(data=train[['Embarked']])\n",
    "plt.show()"
   ]
  },
  {
   "cell_type": "code",
   "execution_count": null,
   "metadata": {
    "vscode": {
     "languageId": "plaintext"
    }
   },
   "outputs": [],
   "source": [
    "from sklearn.impute import KNNImputer\n",
    "imputer = KNNImputer(n_neighbors=3)\n",
    "train.loc[:, 'Pclass':] = imputer.fit_transform(train.loc[:, 'Pclass':])\n",
    "test.loc[:, 'Pclass':] = imputer.transform(test.loc[:, 'Pclass':])"
   ]
  },
  {
   "cell_type": "code",
   "execution_count": null,
   "metadata": {
    "vscode": {
     "languageId": "plaintext"
    }
   },
   "outputs": [],
   "source": [
    "X=train[[ 'Pclass', 'Sex', 'Age', 'SibSp', 'Parch', 'Fare', 'Embarked']]\n",
    "y=train[['Survived']]\n",
    "X_test=test[[ 'Pclass', 'Sex', 'Age', 'SibSp', 'Parch', 'Fare', 'Embarked']]"
   ]
  },
  {
   "cell_type": "code",
   "execution_count": null,
   "metadata": {
    "vscode": {
     "languageId": "plaintext"
    }
   },
   "outputs": [],
   "source": [
    "from sklearn.tree import DecisionTreeClassifier\n",
    "from sklearn.model_selection import GridSearchCV\n",
    "from sklearn.metrics import accuracy_score\n",
    "model=DecisionTreeClassifier()\n",
    "param_grid = {\n",
    "    'max_depth': [10, 20, 30, None],\n",
    "    'min_samples_split': [2, 5, 10],\n",
    "    'min_samples_leaf': [1, 2, 4]\n",
    "}\n",
    "grid = GridSearchCV(estimator=model, param_grid=param_grid,scoring='accuracy', cv=5, n_jobs=-1, verbose=1)\n",
    "grid.fit(X, y)\n",
    "y_pred = grid.predict(X)\n",
    "\n",
    "y_test=grid.predict(X_test)\n",
    "accuracy_score(y, y_pred)"
   ]
  },
  {
   "cell_type": "code",
   "execution_count": null,
   "metadata": {
    "vscode": {
     "languageId": "plaintext"
    }
   },
   "outputs": [],
   "source": [
    "from sklearn.tree import DecisionTreeClassifier\n",
    "from sklearn.model_selection import GridSearchCV\n",
    "from sklearn.metrics import accuracy_score\n",
    "\n",
    "# Initialize the Decision Tree model\n",
    "model = DecisionTreeClassifier()\n",
    "\n",
    "# Define the parameter grid for GridSearchCV\n",
    "param_grid = {\n",
    "    'max_depth': [10, 20, 30, None],\n",
    "    'min_samples_split': [2, 5, 10],\n",
    "    'min_samples_leaf': [1, 2, 4]\n",
    "}\n",
    "\n",
    "# Create and run the GridSearchCV\n",
    "grid_search = GridSearchCV(estimator=model, param_grid=param_grid, scoring='accuracy', cv=10, n_jobs=-1, verbose=1)\n",
    "grid_search.fit(X, y)\n",
    "\n",
    "# Make predictions\n",
    "y_pred = grid_search.predict(X)\n",
    "y_test_dt = grid_search.predict(X_test)\n",
    "\n",
    "# Evaluate the model performance\n",
    "accuracy = accuracy_score(y, y_pred)\n",
    "test_accuracy = accuracy_score(y_test, y_test_dt)\n",
    "\n",
    "# Output the results\n",
    "print(\"Train Accuracy: \", accuracy)\n",
    "print(\"Test Accuracy: \", test_accuracy)\n",
    "print(\"Best Parameters: \", grid_search.best_params_)\n"
   ]
  },
  {
   "cell_type": "code",
   "execution_count": null,
   "metadata": {
    "vscode": {
     "languageId": "plaintext"
    }
   },
   "outputs": [],
   "source": [
    "import pandas as pd\n",
    "test = pd.read_csv('test.csv')\n",
    "a = test['PassengerId']\n",
    "submission = pd.DataFrame({\n",
    "    'PassengerId': a,\n",
    "    'Survived': y_test_dt\n",
    "})\n",
    "submission.to_csv('submission_dt.csv', index=False)"
   ]
  },
  {
   "cell_type": "code",
   "execution_count": null,
   "metadata": {
    "vscode": {
     "languageId": "plaintext"
    }
   },
   "outputs": [],
   "source": [
    "from sklearn.ensemble import RandomForestClassifier\n",
    "from sklearn.model_selection import RandomizedSearchCV\n",
    "from sklearn.metrics import accuracy_score\n",
    "import numpy as np\n",
    "\n",
    "# Define parameter distribution\n",
    "param_dist = {\n",
    "    'n_estimators': [10, 25, 50, 100],\n",
    "    'max_features': ['sqrt', 'log2', None],\n",
    "    'max_depth': [None, 3, 6, 9],\n",
    "    'min_samples_split': [2, 5],\n",
    "    'min_samples_leaf': [1, 2],\n",
    "    'max_leaf_nodes': [None, 3, 6],\n",
    "}\n",
    "\n",
    "# Initialize the model\n",
    "model = RandomForestClassifier(random_state=42)\n",
    "\n",
    "# Initialize RandomizedSearchCV\n",
    "rand_search = RandomizedSearchCV(estimator=model,\n",
    "                                  param_distributions=param_dist,\n",
    "                                  n_iter=50,             # Number of combinations to try\n",
    "                                  scoring='accuracy',    # Use accuracy as the scoring metric\n",
    "                                  cv=5,                  # Use 5-fold cross-validation\n",
    "                                  n_jobs=-1,            # Use all available cores\n",
    "                                  verbose=1,            # Verbose output\n",
    "                                  random_state=42)      # For reproducibility\n",
    "\n",
    "# Fit the model\n",
    "rand_search.fit(X, y)\n",
    "\n",
    "# Predict on the training set\n",
    "y_pred = rand_search.predict(X)\n",
    "\n",
    "# Predict on the test set\n",
    "y_test_rf = rand_search.predict(X_test)\n",
    "\n",
    "# Calculate accuracy\n",
    "train_accuracy = accuracy_score(y, y_pred)\n",
    "test_accuracy = accuracy_score(y_test, y_test_rf)\n",
    "\n",
    "print(f\"Training Accuracy: {train_accuracy:.4f}\")\n",
    "print(f\"Test Accuracy: {test_accuracy:.4f}\")\n",
    "print(\"Best Parameters:\", rand_search.best_params_)\n"
   ]
  },
  {
   "cell_type": "code",
   "execution_count": null,
   "metadata": {
    "vscode": {
     "languageId": "plaintext"
    }
   },
   "outputs": [],
   "source": [
    "import pandas as pd\n",
    "test = pd.read_csv('test.csv')\n",
    "a = test['PassengerId']\n",
    "submission = pd.DataFrame({\n",
    "    'PassengerId': a,\n",
    "    'Survived': y_test_rf\n",
    "})\n",
    "submission.to_csv('submission_rf.csv', index=False)"
   ]
  },
  {
   "cell_type": "code",
   "execution_count": null,
   "metadata": {
    "vscode": {
     "languageId": "plaintext"
    }
   },
   "outputs": [],
   "source": [
    "from sklearn.ensemble import GradientBoostingClassifier\n",
    "from sklearn.model_selection import GridSearchCV\n",
    "from sklearn.metrics import accuracy_score\n",
    "\n",
    "# Initialize the Gradient Boosting model\n",
    "model = GradientBoostingClassifier()\n",
    "\n",
    "# Define an expanded parameter grid for GridSearchCV\n",
    "param_grid = {\n",
    "    'n_estimators': [50, 100, 150],       # Increased number of estimators\n",
    "    'learning_rate': [0.01, 0.1, 0.2],    # More varied learning rates\n",
    "    'max_depth': [3, 4, 5, 6],            # More options for max depth\n",
    "    'min_samples_split': [2, 5, 10],      # Control overfitting\n",
    "    'min_samples_leaf': [1, 2, 4],        # Control overfitting\n",
    "    'subsample': [0.8, 0.9, 1.0]          # Use of subsampling to reduce variance\n",
    "}\n",
    "\n",
    "# Create and run the GridSearchCV\n",
    "grid_search = GridSearchCV(estimator=model,\n",
    "                           param_grid=param_grid,\n",
    "                           scoring='accuracy',\n",
    "                           cv=5,\n",
    "                           n_jobs=-1,       # Use all available cores\n",
    "                           verbose=1)\n",
    "\n",
    "# Fit the model\n",
    "grid_search.fit(X, y)\n",
    "\n",
    "# Make predictions\n",
    "y_pred = grid_search.predict(X)\n",
    "y_test_gb = grid_search.predict(X_test)\n",
    "\n",
    "# Evaluate the model performance\n",
    "train_accuracy = accuracy_score(y, y_pred)\n",
    "test_accuracy = accuracy_score(y_test, y_test_gb)\n",
    "\n",
    "# Output the results\n",
    "print(f\"Train Accuracy: {train_accuracy:.4f}\")\n",
    "print(f\"Test Accuracy: {test_accuracy:.4f}\")\n",
    "print(f\"Best Parameters: {grid_search.best_params_}\")\n"
   ]
  },
  {
   "cell_type": "code",
   "execution_count": null,
   "metadata": {
    "vscode": {
     "languageId": "plaintext"
    }
   },
   "outputs": [],
   "source": [
    "import pandas as pd\n",
    "test = pd.read_csv('test.csv')\n",
    "a = test['PassengerId']\n",
    "submission = pd.DataFrame({\n",
    "    'PassengerId': a,\n",
    "    'Survived': y_test_gb\n",
    "})\n",
    "submission.to_csv('submission_gb.csv', index=False)"
   ]
  },
  {
   "cell_type": "code",
   "execution_count": null,
   "metadata": {
    "vscode": {
     "languageId": "plaintext"
    }
   },
   "outputs": [],
   "source": [
    "from xgboost import XGBClassifier\n",
    "from sklearn.model_selection import GridSearchCV\n",
    "from sklearn.metrics import accuracy_score\n",
    "\n",
    "# Initialize the XGBoost model with some default parameters\n",
    "xgb = XGBClassifier(learning_rate=0.02, n_estimators=600, objective='binary:logistic',\n",
    "                    nthread=1, verbosity=0, random_state=42)\n",
    "\n",
    "# Define the parameter grid for GridSearchCV\n",
    "param_grid = {\n",
    "    'min_child_weight': [1, 5, 10],\n",
    "    'gamma': [0.5, 1, 1.5, 2, 5],\n",
    "    'subsample': [0.6, 0.8, 1.0],\n",
    "    'colsample_bytree': [0.6, 0.8, 1.0],\n",
    "    'max_depth': [3, 4, 5]\n",
    "}\n",
    "\n",
    "# Create and run the GridSearchCV\n",
    "grid_search = GridSearchCV(estimator=xgb,\n",
    "                           param_grid=param_grid,\n",
    "                           scoring='accuracy',\n",
    "                           cv=5,\n",
    "                           n_jobs=-1,\n",
    "                           verbose=1)\n",
    "grid_search.fit(X, y)\n",
    "\n",
    "# Make predictions\n",
    "y_pred = grid_search.predict(X)\n",
    "y_test_xg = grid_search.predict(X_test)\n",
    "\n",
    "# Evaluate the model performance\n",
    "train_accuracy = accuracy_score(y, y_pred)\n",
    "test_accuracy = accuracy_score(y_test, y_test_xg)\n",
    "\n",
    "# Output the results\n",
    "print(\"Training Accuracy: \", train_accuracy)\n",
    "print(\"Test Accuracy: \", test_accuracy)\n",
    "print(\"Best Parameters: \", grid_search.best_params_)\n"
   ]
  },
  {
   "cell_type": "code",
   "execution_count": null,
   "metadata": {
    "vscode": {
     "languageId": "plaintext"
    }
   },
   "outputs": [],
   "source": [
    "import pandas as pd\n",
    "test = pd.read_csv('test.csv')\n",
    "a = test['PassengerId']\n",
    "submission = pd.DataFrame({\n",
    "    'PassengerId': a,\n",
    "    'Survived': y_test_xg\n",
    "})\n",
    "submission.to_csv('submission_xg.csv', index=False)"
   ]
  },
  {
   "cell_type": "code",
   "execution_count": null,
   "metadata": {
    "vscode": {
     "languageId": "plaintext"
    }
   },
   "outputs": [],
   "source": [
    "from sklearn.ensemble import AdaBoostClassifier\n",
    "from sklearn.model_selection import GridSearchCV\n",
    "from sklearn.metrics import accuracy_score\n",
    "\n",
    "# Define the parameter grid for GridSearchCV\n",
    "param_grid = {\n",
    "    'n_estimators': [50, 100, 200],\n",
    "    'learning_rate': [0.01, 0.1, 0.5, 1.0]\n",
    "}\n",
    "\n",
    "# Initialize the AdaBoost model\n",
    "model = AdaBoostClassifier()\n",
    "\n",
    "# Create and run the GridSearchCV\n",
    "grid_search = GridSearchCV(estimator=model,\n",
    "                           param_grid=param_grid,\n",
    "                           cv=5,\n",
    "                           scoring='accuracy',\n",
    "                           n_jobs=-1,\n",
    "                           verbose=1)\n",
    "grid_search.fit(X, y)\n",
    "\n",
    "# Make predictions\n",
    "y_pred = grid_search.predict(X)\n",
    "y_test_ab = grid_search.predict(X_test)\n",
    "\n",
    "# Evaluate the model performance\n",
    "train_accuracy = accuracy_score(y, y_pred)\n",
    "test_accuracy = accuracy_score(y_test, y_test_ab)\n",
    "\n",
    "# Output the results\n",
    "print(\"Training Accuracy: \", train_accuracy)\n",
    "print(\"Test Accuracy: \", test_accuracy)\n",
    "print(\"Best Parameters: \", grid_search.best_params_)\n"
   ]
  },
  {
   "cell_type": "code",
   "execution_count": null,
   "metadata": {
    "vscode": {
     "languageId": "plaintext"
    }
   },
   "outputs": [],
   "source": [
    "import pandas as pd\n",
    "test = pd.read_csv('test.csv')\n",
    "a = test['PassengerId']\n",
    "submission = pd.DataFrame({\n",
    "    'PassengerId': a,\n",
    "    'Survived': y_test_ab\n",
    "})\n",
    "submission.to_csv('submission_ab.csv', index=False)"
   ]
  },
  {
   "cell_type": "code",
   "execution_count": null,
   "metadata": {
    "vscode": {
     "languageId": "plaintext"
    }
   },
   "outputs": [],
   "source": []
  },
  {
   "cell_type": "code",
   "execution_count": null,
   "metadata": {
    "vscode": {
     "languageId": "plaintext"
    }
   },
   "outputs": [],
   "source": []
  },
  {
   "cell_type": "code",
   "execution_count": null,
   "metadata": {
    "vscode": {
     "languageId": "plaintext"
    }
   },
   "outputs": [],
   "source": []
  },
  {
   "cell_type": "code",
   "execution_count": null,
   "metadata": {
    "vscode": {
     "languageId": "plaintext"
    }
   },
   "outputs": [],
   "source": []
  },
  {
   "cell_type": "code",
   "execution_count": null,
   "metadata": {
    "vscode": {
     "languageId": "plaintext"
    }
   },
   "outputs": [],
   "source": []
  }
 ],
 "metadata": {
  "language_info": {
   "name": "python"
  }
 },
 "nbformat": 4,
 "nbformat_minor": 2
}
